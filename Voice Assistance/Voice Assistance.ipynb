{
 "cells": [
  {
   "cell_type": "code",
   "execution_count": 5,
   "id": "chinese-tunisia",
   "metadata": {},
   "outputs": [],
   "source": [
    "import speech_recognition as sr        #convert speech to text\n",
    "import datetime                        #for fetching date and time\n",
    "import wikipedia\n",
    "import webbrowser\n",
    "from gtts import gTTS                  # google text to speech \n",
    "import os                              # to save/open files \n",
    "import pyjokes\n",
    "import playsound\n"
   ]
  },
  {
   "cell_type": "code",
   "execution_count": 6,
   "id": "front-california",
   "metadata": {},
   "outputs": [],
   "source": [
    "def talk():\n",
    "    input=sr.Recognizer()\n",
    "    with sr.Microphone() as source:\n",
    "        audio=input.listen(source)\n",
    "        data=\"\"\n",
    "        try:\n",
    "            data=input.recognize_google(audio)\n",
    "            print(\"Your question is, \" + data)\n",
    "            \n",
    "        except sr.UnknownValueError:\n",
    "            print(\"Sorry I did not hear that, Please repeat again.\")\n",
    "        return data"
   ]
  },
  {
   "cell_type": "code",
   "execution_count": 7,
   "id": "executed-humidity",
   "metadata": {},
   "outputs": [],
   "source": [
    "def respond(output):\n",
    "    num=0\n",
    "    print(output)\n",
    "    num += 1\n",
    "    response=gTTS(text=output, lang='en')\n",
    "    file = str(num)+\".mp3\"\n",
    "    response.save(file)\n",
    "    playsound.playsound(file, True)\n",
    "    os.remove(file)"
   ]
  },
  {
   "cell_type": "code",
   "execution_count": 8,
   "id": "binary-nurse",
   "metadata": {},
   "outputs": [
    {
     "name": "stdout",
     "output_type": "stream",
     "text": [
      "Hi, I am sara your personal desktop assistant\n",
      "How can I help you?\n",
      "Sorry I did not hear that, Please repeat again.\n",
      "Application not available\n",
      "How can I help you?\n",
      "Your question is, exit\n",
      "have a good day!\n"
     ]
    }
   ],
   "source": [
    "if __name__=='__main__':\n",
    "    respond(\"Hi, I am sara your personal desktop assistant\")\n",
    "          \n",
    "    while(1):\n",
    "        respond(\"How can I help you?\")\n",
    "        text=talk().lower()\n",
    "        \n",
    "        if text==0:\n",
    "            continue\n",
    "            \n",
    "        if \"stop\" in str(text) or \"exit\" in str(text) or \"bye\" in str(text):\n",
    "            respond(\"have a good day!\")\n",
    "            break\n",
    "            \n",
    "        elif 'who  is' in text:\n",
    "            person = command.replace('who is', '')\n",
    "            info = wikipedia.summary(person, 1)\n",
    "            print(info)\n",
    "            respond(info)\n",
    "                  \n",
    "        elif 'time' in text:\n",
    "            strTime=datetime.datetime.now().strftime(\"%H:%M:%S\")\n",
    "            respond(f\"the time is {strTime}\")     \n",
    "        \n",
    "        elif 'search'  in text:\n",
    "            text = text.replace(\"search\", \"\")\n",
    "            webbrowser.open_new_tab(text)\n",
    "            \n",
    "        elif 'open google' in text:\n",
    "            webbrowser.open_new_tab(\"https://www.google.com\")\n",
    "            respond(\"Google is open\")\n",
    "            \n",
    "        elif 'play music' in text:\n",
    "            music_dir = 'C:\\songs'\n",
    "            songs = os.listdir(music_dir)\n",
    "            print(songs)    \n",
    "            os.startfile(os.path.join(music_dir, songs[0])) \n",
    "            \n",
    "        elif 'joke' in text:\n",
    "            respond(pyjokes.get_joke())\n",
    "            \n",
    "        elif 'date' in text:\n",
    "            respond('sorry, I have a headache')\n",
    "            \n",
    "        elif 'are you single' in text:\n",
    "            respond('I am in a relationship with wifi')\n",
    "                \n",
    "        else:\n",
    "            \n",
    "            respond(\"Application not available\")"
   ]
  },
  {
   "cell_type": "code",
   "execution_count": null,
   "id": "accompanied-boulder",
   "metadata": {},
   "outputs": [],
   "source": []
  },
  {
   "cell_type": "code",
   "execution_count": null,
   "id": "cloudy-ribbon",
   "metadata": {},
   "outputs": [],
   "source": []
  }
 ],
 "metadata": {
  "kernelspec": {
   "display_name": "Python 3",
   "language": "python",
   "name": "python3"
  },
  "language_info": {
   "codemirror_mode": {
    "name": "ipython",
    "version": 3
   },
   "file_extension": ".py",
   "mimetype": "text/x-python",
   "name": "python",
   "nbconvert_exporter": "python",
   "pygments_lexer": "ipython3",
   "version": "3.8.5"
  }
 },
 "nbformat": 4,
 "nbformat_minor": 5
}
